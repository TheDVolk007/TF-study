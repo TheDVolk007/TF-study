{
 "cells": [
  {
   "cell_type": "code",
   "execution_count": 1,
   "metadata": {},
   "outputs": [],
   "source": [
    "import numpy as np\n",
    "import tensorflow as tf\n",
    "import matplotlib.pyplot as plt\n",
    "\n",
    "%matplotlib inline"
   ]
  },
  {
   "cell_type": "markdown",
   "metadata": {},
   "source": [
    "# Helper functions"
   ]
  },
  {
   "cell_type": "code",
   "execution_count": 81,
   "metadata": {},
   "outputs": [],
   "source": [
    "def print_results(predictions = None):\n",
    "    plt.figure()\n",
    "    \n",
    "    if predictions is not None:\n",
    "        ax1 = plt.subplot(1, 2, 1)\n",
    "        ax1.set_title('Predicted')\n",
    "        ones = X[np.argwhere(predictions>0.5)]\n",
    "        zeroes = X[np.argwhere(predictions<=0.5)]\n",
    "        ax1.plot([s[0,0] for s in zeroes], [s[0,1] for s in zeroes], '.', color = 'red')\n",
    "        ax1.plot([s[0,0] for s in ones], [s[0,1] for s in ones], '.', color = 'blue')\n",
    "\n",
    "        ax2 = plt.subplot(1, 2, 2)\n",
    "    else:\n",
    "        ax2 = plt.subplot(1, 1, 1)\n",
    "        \n",
    "    ax2.set_title('Actual')\n",
    "    ones = X[np.argwhere(Y==1)]\n",
    "    zeroes = X[np.argwhere(Y==0)]\n",
    "    ax2.plot([s[0,0] for s in zeroes], [s[0,1] for s in zeroes], '.', color = 'red')\n",
    "    ax2.plot([s[0,0] for s in ones], [s[0,1] for s in ones], '.', color = 'blue')\n",
    "    \n",
    "def accuracy(y, y_hat):\n",
    "    y_hat_mod = [1 if x > 0.5 else 0 for x in y_hat]\n",
    "    correct = 0\n",
    "    for i in range(len(y)):\n",
    "        if y_hat_mod[i] == y[i]:\n",
    "            correct += 1\n",
    "    return (float(correct)/float(len(y)))"
   ]
  },
  {
   "cell_type": "markdown",
   "metadata": {},
   "source": [
    "# Generating data"
   ]
  },
  {
   "cell_type": "code",
   "execution_count": 54,
   "metadata": {},
   "outputs": [
    {
     "name": "stdout",
     "output_type": "stream",
     "text": [
      "4970\n",
      "5030\n"
     ]
    }
   ],
   "source": [
    "X = []\n",
    "Y = []\n",
    "limit_x1 = int(100)\n",
    "limit_x2 = int(100)\n",
    "bounds_x1 = np.array([18., 90.])\n",
    "bounds_x2 = np.array([19., 90.])\n",
    "div_x1 = 10\n",
    "div_x2 = 10\n",
    "\n",
    "for i in range(0,limit_x1):\n",
    "    for j in range(0,limit_x2):\n",
    "        X.append([float(i/div_x1),float(j/div_x2)])\n",
    "        y = 1 if i > bounds_x1[0] and i < bounds_x1[1] and j > bounds_x2[0] and j < bounds_x2[1] else 0\n",
    "        Y.append([y])\n",
    "        \n",
    "X = np.array(X, ndmin=2)\n",
    "Y = np.array(Y, ndmin=2)\n",
    "\n",
    "print(len(Y[np.argwhere(Y==1)]))\n",
    "print(len(Y[np.argwhere(Y==0)]))"
   ]
  },
  {
   "cell_type": "markdown",
   "metadata": {},
   "source": [
    "As we can see, the data is very well splitted (meaning that there is almost equal amount of ones and zeroes in data, so the dataset is not inclined to something)"
   ]
  },
  {
   "cell_type": "code",
   "execution_count": 57,
   "metadata": {},
   "outputs": [
    {
     "data": {
      "image/png": "[encoded data removed]",
      "text/plain": [
       "<matplotlib.figure.Figure at 0xc4552a3470>"
      ]
     },
     "metadata": {},
     "output_type": "display_data"
    }
   ],
   "source": [
    "print_results()"
   ]
  },
  {
   "cell_type": "markdown",
   "metadata": {},
   "source": [
    "Also, the data in meaningfully distributed, so nn should be able to find the pattern"
   ]
  },
  {
   "cell_type": "code",
   "execution_count": 82,
   "metadata": {},
   "outputs": [],
   "source": [
    "X_opt = X / X.max() #gonna use that later, to feed nn somewhat normalized values"
   ]
  },
  {
   "cell_type": "markdown",
   "metadata": {},
   "source": [
    "# Tensorflow model"
   ]
  },
  {
   "cell_type": "markdown",
   "metadata": {},
   "source": [
    "I am going to create a simple three-layered neural network"
   ]
  },
  {
   "cell_type": "code",
   "execution_count": 83,
   "metadata": {},
   "outputs": [],
   "source": [
    "x_ph = tf.placeholder(tf.float32, [None, 2]) #placeholder for features\n",
    "y_ph = tf.placeholder(tf.float32, [None, 1]) #placeholder for labels"
   ]
  },
  {
   "cell_type": "code",
   "execution_count": 84,
   "metadata": {},
   "outputs": [],
   "source": [
    "# Weights\n",
    "W0 = tf.Variable(tf.truncated_normal((2, 5)), name=\"W0\")\n",
    "b0 = tf.Variable(tf.zeros((1, 5)), name=\"b0\")\n",
    "W1 = tf.Variable(tf.truncated_normal((5, 2)), name=\"W1\")\n",
    "b1 = tf.Variable(tf.zeros((1, 2)), name=\"b1\")\n",
    "W2 = tf.Variable(tf.truncated_normal((2, 1)), name=\"W2\")\n",
    "b2 = tf.Variable(tf.zeros((1, 1)), name=\"b2\")"
   ]
  },
  {
   "cell_type": "code",
   "execution_count": 85,
   "metadata": {},
   "outputs": [],
   "source": [
    "# Forward propagation\n",
    "l0 = tf.nn.sigmoid(x_ph @ W0 + b0)\n",
    "l1 = tf.nn.sigmoid(l0 @ W1 + b1)\n",
    "output = tf.nn.sigmoid(l1 @ W2 + b2)"
   ]
  },
  {
   "cell_type": "code",
   "execution_count": 86,
   "metadata": {},
   "outputs": [],
   "source": [
    "# Backpropagation\n",
    "# Squared Error Approach\n",
    "# error = (y_ph - output) ** 2\n",
    "\n",
    "# Cross entropy approach from https://www.tensorflow.org/get_started/mnist/beginners\n",
    "error = tf.reduce_mean(-tf.reduce_sum(y_ph * tf.log(output), reduction_indices=[1]))"
   ]
  },
  {
   "cell_type": "code",
   "execution_count": 87,
   "metadata": {},
   "outputs": [],
   "source": [
    "init = tf.global_variables_initializer()\n",
    "sess = tf.InteractiveSession() # open interactive session\n",
    "epochs = 1000\n",
    "learning_rate = 0.1"
   ]
  },
  {
   "cell_type": "code",
   "execution_count": 88,
   "metadata": {},
   "outputs": [],
   "source": [
    "optimizer = tf.train.GradientDescentOptimizer(learning_rate=learning_rate).minimize(error)\n",
    "sess.run(init)"
   ]
  },
  {
   "cell_type": "code",
   "execution_count": 89,
   "metadata": {},
   "outputs": [],
   "source": [
    "for i in range(epochs):\n",
    "    sess.run(optimizer, feed_dict={x_ph: X_opt, y_ph: Y})"
   ]
  },
  {
   "cell_type": "code",
   "execution_count": 90,
   "metadata": {},
   "outputs": [],
   "source": [
    "predictions = sess.run(output, feed_dict={x_ph: X_opt, y_ph: Y})"
   ]
  },
  {
   "cell_type": "code",
   "execution_count": 91,
   "metadata": {},
   "outputs": [
    {
     "name": "stdout",
     "output_type": "stream",
     "text": [
      "0.497\n"
     ]
    },
    {
     "data": {
      "image/png": "[encoded data removed]",
      "text/plain": [
       "<matplotlib.figure.Figure at 0xc454d7ec88>"
      ]
     },
     "metadata": {},
     "output_type": "display_data"
    }
   ],
   "source": [
    "print(accuracy(Y,predictions))\n",
    "print_results(predictions)"
   ]
  },
  {
   "cell_type": "code",
   "execution_count": 92,
   "metadata": {},
   "outputs": [],
   "source": [
    "sess.close()"
   ]
  },
  {
   "cell_type": "markdown",
   "metadata": {},
   "source": [
    "# The neural network performs really bad.\n",
    "Presented configuration was tried on the very similar data on the tensorflow playground site, where it performed quite well.\n",
    "The link to the playground: http://playground.tensorflow.org/#activation=sigmoid&batchSize=30&dataset=circle&regDataset=reg-plane&learningRate=0.1&regularizationRate=0&noise=0&networkShape=5,2&seed=0.53191&showTestData=false&discretize=false&percTrainData=90&x=true&y=true&xTimesY=false&xSquared=false&ySquared=false&cosX=false&sinX=false&cosY=false&sinY=false&collectStats=false&problem=classification&initZero=false&hideText=false"
   ]
  },
  {
   "cell_type": "code",
   "execution_count": null,
   "metadata": {},
   "outputs": [],
   "source": []
  }
 ],
 "metadata": {
  "kernelspec": {
   "display_name": "Python 3",
   "language": "python",
   "name": "python3"
  },
  "language_info": {
   "codemirror_mode": {
    "name": "ipython",
    "version": 3
   },
   "file_extension": ".py",
   "mimetype": "text/x-python",
   "name": "python",
   "nbconvert_exporter": "python",
   "pygments_lexer": "ipython3",
   "version": "3.5.4"
  }
 },
 "nbformat": 4,
 "nbformat_minor": 2
}
